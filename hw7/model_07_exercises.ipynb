{
 "cells": [
  {
   "cell_type": "markdown",
   "metadata": {},
   "source": [
    "# Neural & Behavioral Modeling - Week 7 (Exercises)\n",
    "by Cheng-Kuang, Wu (r10922186@ntu.edu.tw)"
   ]
  },
  {
   "cell_type": "code",
   "execution_count": 1,
   "metadata": {
    "collapsed": true
   },
   "outputs": [
    {
     "name": "stderr",
     "output_type": "stream",
     "text": [
      "Matplotlib created a temporary config/cache directory at /tmp/matplotlib-_yc028n1 because the default path (/home/ckwu/.config/matplotlib) is not a writable directory; it is highly recommended to set the MPLCONFIGDIR environment variable to a writable directory, in particular to speed up the import of Matplotlib and to better support multiprocessing.\n"
     ]
    }
   ],
   "source": [
    "%config IPCompleter.greedy=True \n",
    "%matplotlib inline\n",
    "import numpy as np\n",
    "import matplotlib.pyplot as plt\n",
    "from IPython.display import *"
   ]
  },
  {
   "cell_type": "markdown",
   "metadata": {},
   "source": [
    "## 1 Simulate attentional effects on neurons (10 points)\n",
    "\n",
    "Please read the following article:\n",
    "\n",
    "Reynolds, J. H., & Desimone, R. (1999). <a href=https://www.salk.edu/wp-content/uploads/2015/11/rd.pdf>The role of neural mechanisms of attention in solving the binding problem.</a> Neuron, 24(1), 19-29.\n",
    "\n",
    "and use its model equations in Fig. 10 to reproduce its Fig. 3a:<br><br>\n",
    "<img src=https://www.researchgate.net/profile/Richard_Wezel/publication/224015518/figure/fig2/AS:213837023322122@1427994127491/When-presented-with-two-visual-stimuli-simultaneously-attention-can-lead-to-changes-in.png>\n",
    "\n",
    "Note that the stimulus was presented from 0 to 200ms in the Fig. 3a."
   ]
  },
  {
   "cell_type": "markdown",
   "metadata": {},
   "source": [
    "## Model"
   ]
  },
  {
   "cell_type": "code",
   "execution_count": 2,
   "metadata": {
    "collapsed": true
   },
   "outputs": [],
   "source": [
    "### Write your codes here\n",
    "\n",
    "class BiasedCompetitionModel(object):\n",
    "    # Initialize the synapse projection weights\n",
    "    def __init__(self, w1p: float, w1n: float, w2p: float, w2n: float):\n",
    "        # projections\n",
    "        self.w1p = w1p\n",
    "        self.w1n = w1n\n",
    "        self.w2p = w2p\n",
    "        self.w2n = w2n\n",
    "        # constants for running the simulation\n",
    "        self.baseline = 30 # baseline firing rate\n",
    "        self.A = 1 # self-decay\n",
    "        self.B = 200 # upper-bound of excitation\n",
    "        self.stimulus_time = 200 # present stimulus until the 200th ms\n",
    "        self.simulate_time = 350 # simulation time\n",
    "        self.dt = 0.01\n",
    "        self.t_range = np.arange(0, self.simulate_time, self.dt)\n",
    "    \n",
    "    # Present stimulus and return firing rates\n",
    "    def run_simulation(self, x1: float, x2: float, att: int, scale_ratio: float = 3.0):\n",
    "        w1p, w1n, w2p, w2n = self.attend(att, scale_ratio) # get the projection weights considering attention\n",
    "        ys = [self.baseline] # initial firing rate\n",
    "        for t in self.t_range:\n",
    "            y0 = ys[-1]\n",
    "            E = (x1 * w1p + x2 * w2p) if (t < self.stimulus_time) else 0\n",
    "            I = (x1 * w1n + x2 * w2n) if (t < self.stimulus_time) else 0\n",
    "            gradient = (self.B - y0) * E - y0 * I - (y0 - self.baseline) * self.A # slightly modify the self decaying term (stop decaying when the baseline firing rate is reached)\n",
    "            y1 = y0 + self.dt * gradient\n",
    "            ys.append(y1)\n",
    "\n",
    "        return ys[:-1]\n",
    "\n",
    "    # Attention mechanism (increase the efficacy of synpase projections of the specified group)\n",
    "    def attend(self, att: int, scale_ratio: float) -> tuple:\n",
    "        if att == 0:\n",
    "            return self.w1p, self.w1n, self.w2p, self.w2n\n",
    "        elif att == 1:\n",
    "            return self.w1p * scale_ratio, self.w1n * scale_ratio, self.w2p, self.w2n\n",
    "        elif att == 2:\n",
    "            return self.w1p, self.w1n, self.w2p * scale_ratio, self.w2n * scale_ratio\n",
    "        else:\n",
    "            raise ValueError(\"att must be 0 (attend away), 1 (attend the vertical bar), or 2 (attend the horizontal bar)\")"
   ]
  },
  {
   "cell_type": "markdown",
   "metadata": {},
   "source": [
    "## Configuration"
   ]
  },
  {
   "cell_type": "code",
   "execution_count": 3,
   "metadata": {},
   "outputs": [],
   "source": [
    "# x1: vertical bar / x2: horizontal bar\n",
    "# No attention: att == 0 / Attend vertical bar (x1): att == 1\n",
    "model_params = {\n",
    "    \"w1p\": 2,\n",
    "    \"w1n\": 0.5,\n",
    "    \"w2p\": 0.5,\n",
    "    \"w2n\": 2\n",
    "}\n",
    "\n",
    "cases = {\n",
    "    \"ref_att_away\": {\"x1\": 1, \"x2\": 0, \"att\": 0},\n",
    "    \"pair_att_ref\": {\"x1\": 1, \"x2\": 1, \"att\": 1, \"scale_ratio\": 3.0}, # increase or scale up the values of w1 (both + and -) \n",
    "    \"pair_att_away\": {\"x1\": 1, \"x2\": 1, \"att\": 0},\n",
    "    \"probe_att_away\": {\"x1\": 0, \"x2\": 1, \"att\": 0}\n",
    "}\n",
    "\n",
    "styles = [\"g-\", \"r--\", \"b--\", \"k-\"]"
   ]
  },
  {
   "cell_type": "markdown",
   "metadata": {},
   "source": [
    "## Simulation"
   ]
  },
  {
   "cell_type": "code",
   "execution_count": 9,
   "metadata": {},
   "outputs": [
    {
     "data": {
      "image/png": "[encoded data removed]",
      "text/plain": [
       "<Figure size 640x480 with 1 Axes>"
      ]
     },
     "metadata": {},
     "output_type": "display_data"
    }
   ],
   "source": [
    "model = BiasedCompetitionModel(**model_params)\n",
    "\n",
    "for i, (case, values) in enumerate(cases.items()):\n",
    "    ys = model.run_simulation(**values)\n",
    "    plt.plot(model.t_range, ys, styles[i], label=case)\n",
    "\n",
    "plt.legend(loc=\"upper right\");"
   ]
  },
  {
   "cell_type": "markdown",
   "metadata": {},
   "source": [
    "## Original Plot"
   ]
  },
  {
   "cell_type": "markdown",
   "metadata": {},
   "source": [
    "<img src=https://www.researchgate.net/profile/Richard_Wezel/publication/224015518/figure/fig2/AS:213837023322122@1427994127491/When-presented-with-two-visual-stimuli-simultaneously-attention-can-lead-to-changes-in.png>"
   ]
  }
 ],
 "metadata": {
  "kernelspec": {
   "display_name": "Python 3.8.13 ('cuda-11.3')",
   "language": "python",
   "name": "python3"
  },
  "language_info": {
   "codemirror_mode": {
    "name": "ipython",
    "version": 3
   },
   "file_extension": ".py",
   "mimetype": "text/x-python",
   "name": "python",
   "nbconvert_exporter": "python",
   "pygments_lexer": "ipython3",
   "version": "3.8.13"
  },
  "vscode": {
   "interpreter": {
    "hash": "35b66dd0c8f752918e1728d86abaa8fb004a7dee1d90779ea4d0023d852f9fe7"
   }
  }
 },
 "nbformat": 4,
 "nbformat_minor": 2
}
