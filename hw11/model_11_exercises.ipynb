{
 "cells": [
  {
   "cell_type": "markdown",
   "metadata": {},
   "source": [
    "# Neural & Behavioral Modeling - Week 11 (Exercises)\n",
    "by Cheng-Kuang, Wu (r10922186@ntu.edu.tw)"
   ]
  },
  {
   "cell_type": "code",
   "execution_count": 1,
   "metadata": {},
   "outputs": [
    {
     "name": "stderr",
     "output_type": "stream",
     "text": [
      "Matplotlib created a temporary config/cache directory at /tmp/matplotlib-gfi8zwth because the default path (/home/ckwu/.config/matplotlib) is not a writable directory; it is highly recommended to set the MPLCONFIGDIR environment variable to a writable directory, in particular to speed up the import of Matplotlib and to better support multiprocessing.\n"
     ]
    }
   ],
   "source": [
    "%config IPCompleter.greedy=True \n",
    "%matplotlib inline\n",
    "from matplotlib.pyplot import *\n",
    "from IPython.display import *\n",
    "import numpy as np"
   ]
  },
  {
   "cell_type": "code",
   "execution_count": 2,
   "metadata": {},
   "outputs": [
    {
     "name": "stdout",
     "output_type": "stream",
     "text": [
      "PyTorch version: 1.11.0\n",
      "Device  0 : GeForce RTX 3090\n",
      "Device  1 : GeForce RTX 3090\n",
      "Current: Device  0\n"
     ]
    }
   ],
   "source": [
    "# Check GPU status:\n",
    "import torch as t\n",
    "print('PyTorch version:',t.__version__)\n",
    "use_cuda=t.cuda.is_available()\n",
    "if(use_cuda):\n",
    "    for i in range(t.cuda.device_count()):\n",
    "        print('Device ',i,':',t.cuda.get_device_name(i))\n",
    "    print('Current: Device ',t.cuda.current_device())\n",
    "    t.backends.cudnn.benchmark = True \n",
    "    device = t.device(\"cuda\")\n",
    "else:\n",
    "    device = t.device(\"cpu\")\n",
    "    print('No GPU')"
   ]
  },
  {
   "cell_type": "markdown",
   "metadata": {},
   "source": [
    "## 1 Fair Performance Evaluation (2 points)\n",
    "We often compare and assess performances of different model architectures/parameters/hyperparameters. Note that the results are differnt even if you re-run exactly the same code block. This is primarily due to a non-fixed random number seed. Please:\n",
    "\n",
    "(1) run the section 1.2 TEN times and report (a) min, (b) max, (c) mean, & (d) standard deviation of the TESTING accuracies. (2 points)\n",
    "\n",
    "(2) try to fix the random number seeds in numpy & pytorch to see if you can obtain the same results every time in the section 1.2. (2 points)"
   ]
  },
  {
   "cell_type": "markdown",
   "metadata": {},
   "source": [
    "### 1.0 CIFAR-10 dataset"
   ]
  },
  {
   "cell_type": "code",
   "execution_count": 4,
   "metadata": {},
   "outputs": [
    {
     "name": "stdout",
     "output_type": "stream",
     "text": [
      "Downloading https://www.cs.toronto.edu/~kriz/cifar-10-python.tar.gz to ./cifar-10-python.tar.gz\n"
     ]
    },
    {
     "data": {
      "application/vnd.jupyter.widget-view+json": {
       "model_id": "c9fddb7380604103aac8e85550426995",
       "version_major": 2,
       "version_minor": 0
      },
      "text/plain": [
       "  0%|          | 0/170498071 [00:00<?, ?it/s]"
      ]
     },
     "metadata": {},
     "output_type": "display_data"
    },
    {
     "name": "stdout",
     "output_type": "stream",
     "text": [
      "Extracting ./cifar-10-python.tar.gz to .\n"
     ]
    }
   ],
   "source": [
    "# Load the dataset:\n",
    "import torchvision.transforms as transforms\n",
    "from torchvision.datasets import CIFAR10\n",
    "train_set = CIFAR10(root='.', train=True, transform=transforms.ToTensor(), download=True)\n",
    "train_data = t.utils.data.DataLoader(train_set, batch_size=32, shuffle=True)\n",
    "test_set = CIFAR10(root='.', train=False, transform=transforms.ToTensor())\n",
    "test_data = t.utils.data.DataLoader(train_set, batch_size=1000, shuffle=True)\n",
    "classes = ('plane', 'car', 'bird', 'cat', 'deer', 'dog', 'frog', 'horse', 'ship', 'truck')"
   ]
  },
  {
   "cell_type": "markdown",
   "metadata": {},
   "source": [
    "### 1.1 The model"
   ]
  },
  {
   "cell_type": "code",
   "execution_count": 9,
   "metadata": {},
   "outputs": [],
   "source": [
    "# Make the model:\n",
    "import torch.nn as nn\n",
    "import torch.nn.functional as F\n",
    "class Net(nn.Module):\n",
    "    def __init__(self):\n",
    "        super(Net, self).__init__() # = nn.Module.__init__(self)\n",
    "        self.conv1 = nn.Conv2d(3, 6, 5) # in, out, kernel\n",
    "        self.conv2 = nn.Conv2d(6, 16, 5) \n",
    "        self.fc1   = nn.Linear(16*5*5, 120) \n",
    "        self.fc2   = nn.Linear(120, 84)\n",
    "        self.fc3   = nn.Linear(84, 10)\n",
    "    def forward(self, x): # functional expressions\n",
    "        x = F.max_pool2d(F.relu(self.conv1(x)), (2, 2))\n",
    "        x = F.max_pool2d(F.relu(self.conv2(x)), 2) \n",
    "        x = x.view(x.size()[0], -1) \n",
    "        x = F.relu(self.fc1(x))\n",
    "        x = F.relu(self.fc2(x))\n",
    "        x = self.fc3(x)        \n",
    "        return x"
   ]
  },
  {
   "cell_type": "markdown",
   "metadata": {},
   "source": [
    "### 1.2 Training & Testing"
   ]
  },
  {
   "cell_type": "code",
   "execution_count": 13,
   "metadata": {},
   "outputs": [
    {
     "name": "stdout",
     "output_type": "stream",
     "text": [
      "Testing accuracy: 0.522\n"
     ]
    }
   ],
   "source": [
    "import random\n",
    "import pandas as pd\n",
    "\n",
    "def set_seeds(seed):\n",
    "    random.seed(seed)\n",
    "    np.random.seed(seed)\n",
    "    t.manual_seed(seed)\n",
    "    if t.cuda.is_available():\n",
    "        t.cuda.manual_seed(seed)\n",
    "        t.cuda.manual_seed_all(seed)\n",
    "    t.backends.cudnn.benchmark = False\n",
    "    t.backends.cudnn.deterministic = True\n",
    "\n",
    "def run_experiment(train_data, test_data, fix_seed: bool = False) -> float:\n",
    "    if fix_seed:\n",
    "        set_seeds(seed=42)\n",
    "\n",
    "    model = Net()\n",
    "    model = model.to(device)\n",
    "    loss_fn = t.nn.CrossEntropyLoss()\n",
    "    optimizer = t.optim.Adam(model.parameters())\n",
    "\n",
    "    # Training:\n",
    "    for e in range(2):\n",
    "        for _, (X_train, Y_train) in enumerate(train_data, 0):\n",
    "            X_train,Y_train = X_train.to(device),Y_train.to(device)\n",
    "            Y_pred = model(X_train)\n",
    "            loss = loss_fn(Y_pred, Y_train)\n",
    "            model.zero_grad()\n",
    "            loss.backward()\n",
    "            optimizer.step()   \n",
    "            Y_pred = model(X_train)\n",
    "            Y_pred = t.max(Y_pred,1)[1]\n",
    "        \n",
    "    # Testing on a batch:\n",
    "    dataiter = iter(test_data)\n",
    "    X_test, Y_test = dataiter.next() # returning a batch\n",
    "    X_test,Y_test = X_test.to(device),Y_test.to(device)\n",
    "    with t.no_grad():\n",
    "        Y_pred = model(X_test)\n",
    "        Y_pred = t.max(Y_pred,1)[1]\n",
    "        test_acc = (Y_pred==Y_test).sum().item()/Y_test.shape[0]\n",
    "\n",
    "    return test_acc"
   ]
  },
  {
   "cell_type": "markdown",
   "metadata": {},
   "source": [
    "### 1.3 Your answers"
   ]
  },
  {
   "cell_type": "markdown",
   "metadata": {},
   "source": [
    "#### 1.3.1 Run the section 1.2 TEN times and report (a) min, (b) max, (c) mean, & (d) standard deviation of the TESTING accuracies. (2 points)"
   ]
  },
  {
   "cell_type": "code",
   "execution_count": 14,
   "metadata": {},
   "outputs": [
    {
     "name": "stdout",
     "output_type": "stream",
     "text": [
      "Experiment 1: testing accuracy = 0.520\n",
      "Experiment 2: testing accuracy = 0.517\n",
      "Experiment 3: testing accuracy = 0.498\n",
      "Experiment 4: testing accuracy = 0.570\n",
      "Experiment 5: testing accuracy = 0.559\n",
      "Experiment 6: testing accuracy = 0.506\n",
      "Experiment 7: testing accuracy = 0.492\n",
      "Experiment 8: testing accuracy = 0.536\n",
      "Experiment 9: testing accuracy = 0.507\n",
      "Experiment 10: testing accuracy = 0.507\n"
     ]
    }
   ],
   "source": [
    "n_experiments = 10\n",
    "fix_seed = False\n",
    "\n",
    "test_accs = list()\n",
    "for i in range(n_experiments):\n",
    "    test_acc = run_experiment(train_data, test_data, fix_seed)\n",
    "    test_accs.append(test_acc)\n",
    "    print(f\"Experiment {i + 1}: testing accuracy = {test_acc:.3f}\")\n",
    "\n",
    "test_accs = pd.Series(test_accs)"
   ]
  },
  {
   "cell_type": "code",
   "execution_count": 23,
   "metadata": {},
   "outputs": [
    {
     "name": "stdout",
     "output_type": "stream",
     "text": [
      "Min = 0.492; Max = 0.570; Mean = 0.521; Standard deviation = 0.026\n"
     ]
    }
   ],
   "source": [
    "stats = test_accs.describe()\n",
    "print(f\"Min = {stats['min']:.3f}; Max = {stats['max']:.3f}; Mean = {stats['mean']:.3f}; Standard deviation = {stats['std']:.3f}\")"
   ]
  },
  {
   "cell_type": "markdown",
   "metadata": {},
   "source": [
    "#### 1.3.2 Try to fix the random number seeds in numpy & pytorch to see if you can obtain the same results every time in the section 1.2. (2 points)"
   ]
  },
  {
   "cell_type": "code",
   "execution_count": 25,
   "metadata": {},
   "outputs": [
    {
     "name": "stdout",
     "output_type": "stream",
     "text": [
      "Experiment 1: testing accuracy = 0.493\n",
      "Experiment 2: testing accuracy = 0.493\n",
      "Experiment 3: testing accuracy = 0.493\n",
      "Experiment 4: testing accuracy = 0.493\n",
      "Experiment 5: testing accuracy = 0.493\n",
      "Experiment 6: testing accuracy = 0.493\n",
      "Experiment 7: testing accuracy = 0.493\n",
      "Experiment 8: testing accuracy = 0.493\n",
      "Experiment 9: testing accuracy = 0.493\n",
      "Experiment 10: testing accuracy = 0.493\n"
     ]
    }
   ],
   "source": [
    "n_experiments = 10\n",
    "fix_seed = True\n",
    "\n",
    "test_accs = list()\n",
    "for i in range(n_experiments):\n",
    "    test_acc = run_experiment(train_data, test_data, fix_seed)\n",
    "    test_accs.append(test_acc)\n",
    "    print(f\"Experiment {i + 1}: testing accuracy = {test_acc:.3f}\")\n",
    "\n",
    "test_accs = pd.Series(test_accs)"
   ]
  },
  {
   "cell_type": "code",
   "execution_count": 26,
   "metadata": {},
   "outputs": [
    {
     "name": "stdout",
     "output_type": "stream",
     "text": [
      "Min = 0.493; Max = 0.493; Mean = 0.493; Standard deviation = 0.000\n"
     ]
    }
   ],
   "source": [
    "stats = test_accs.describe()\n",
    "print(f\"Min = {stats['min']:.3f}; Max = {stats['max']:.3f}; Mean = {stats['mean']:.3f}; Standard deviation = {stats['std']:.3f}\")"
   ]
  },
  {
   "cell_type": "markdown",
   "metadata": {},
   "source": [
    "## 2 Universal Approximation Theorem (4 points)\n",
    "\n",
    "Please FAIRLY evaluate whether a deep network learns XOR more efficiently than a shallow network with the same number of model parameters. Please discuss why in either case."
   ]
  },
  {
   "cell_type": "markdown",
   "metadata": {},
   "source": [
    "### 2.0 XOR data"
   ]
  },
  {
   "cell_type": "code",
   "execution_count": 3,
   "metadata": {},
   "outputs": [
    {
     "data": {
      "image/png": "[encoded data removed]",
      "text/plain": [
       "<Figure size 640x480 with 1 Axes>"
      ]
     },
     "metadata": {},
     "output_type": "display_data"
    }
   ],
   "source": [
    "N=1000 # samples per cluster\n",
    "XY=t.tensor([[5,5],[5,10],[10,5],[10,10]],dtype=t.float32) # 4 cluster centers\n",
    "Z=t.tensor([0,1,1,0]) # category labels\n",
    "t.cat([t.randn(2,1)+XY[0,0],t.randn(2,1)+XY[0,1]],1)\n",
    "xy,z=t.zeros(4*N,2),t.zeros(4*N,dtype=t.int64)\n",
    "for i in range(4):\n",
    "    xy[i*N:(i+1)*N,]=t.rand(N,2)+XY[i,]\n",
    "    z[i*N:(i+1)*N]=Z[i]\n",
    "xy_np=xy.numpy()\n",
    "z_np=z.numpy().astype(int)\n",
    "cmap=np.array([[1,0,0],[0,1,0]])\n",
    "scatter(xy_np[:,0],xy_np[:,1],color=cmap[z_np]);"
   ]
  },
  {
   "cell_type": "markdown",
   "metadata": {},
   "source": [
    "#### 2.1 A shallow net with one hidden layer"
   ]
  },
  {
   "cell_type": "code",
   "execution_count": 57,
   "metadata": {},
   "outputs": [],
   "source": [
    "# Number of free parameters: 2*H+H*2=48\n",
    "def get_shallow_net() -> t.nn.Module:\n",
    "    H = 12 # number of hidden units\n",
    "    model = t.nn.Sequential(\n",
    "        t.nn.Linear(2, H, bias=False),\n",
    "        t.nn.BatchNorm1d(H),\n",
    "        t.nn.ReLU(),\n",
    "        t.nn.Linear(H, 2, bias=False),\n",
    "        t.nn.Softmax(dim=1)\n",
    "    )\n",
    "    return model"
   ]
  },
  {
   "cell_type": "markdown",
   "metadata": {},
   "source": [
    "#### 2.2 A \"deep\" net with three hidden layers"
   ]
  },
  {
   "cell_type": "code",
   "execution_count": 58,
   "metadata": {},
   "outputs": [],
   "source": [
    "# Number of free parameters: 2*H+H*H+H*H+H*2=48\n",
    "def get_deep_net() -> t.nn.Module:\n",
    "    H = 4\n",
    "    model = t.nn.Sequential(\n",
    "        t.nn.Linear(2, H, bias=False),\n",
    "        t.nn.BatchNorm1d(H),\n",
    "        t.nn.ReLU(),\n",
    "        t.nn.Linear(H, H,bias=False),\n",
    "        t.nn.BatchNorm1d(H),\n",
    "        t.nn.ReLU(),\n",
    "        t.nn.Linear(H, H, bias=False),\n",
    "        t.nn.BatchNorm1d(H),\n",
    "        t.nn.ReLU(),\n",
    "        t.nn.Linear(H, 2, bias=False),\n",
    "        t.nn.Softmax(dim=1)\n",
    "    )\n",
    "    return model"
   ]
  },
  {
   "cell_type": "markdown",
   "metadata": {},
   "source": [
    "### 2.3 Your answers"
   ]
  },
  {
   "cell_type": "markdown",
   "metadata": {},
   "source": [
    "Because experiments vary from run to run, it is more reasonable to run experiments multiple times (100 times in my case) for both shallow and deep networks to compare their learning efficiency better."
   ]
  },
  {
   "cell_type": "code",
   "execution_count": 48,
   "metadata": {},
   "outputs": [],
   "source": [
    "from typing import List\n",
    "\n",
    "def run_experiment(net_type: str, nepochs: int) -> List[float]:\n",
    "    if net_type == \"shallow\":\n",
    "        model = get_shallow_net()\n",
    "    elif net_type == \"deep\":\n",
    "        model = get_deep_net()\n",
    "    else:\n",
    "        raise ValueError()\n",
    "\n",
    "    loss_fn = t.nn.CrossEntropyLoss()\n",
    "    optimizer = t.optim.Adam(model.parameters())\n",
    "    \n",
    "    accs = list()\n",
    "    for _ in range(nepochs):\n",
    "        z_pred = model(xy)\n",
    "        loss = loss_fn(z_pred,z)\n",
    "        model.zero_grad()\n",
    "        loss.backward()\n",
    "        optimizer.step()\n",
    "        z_pred = model(xy) \n",
    "        z_pred = t.max(z_pred,1)[1]\n",
    "        acc = (z_pred==z).sum().item()/xy.shape[0]\n",
    "        accs.append(acc)\n",
    "\n",
    "    return accs\n",
    "\n",
    "def run_experiments(net_type: str, nepochs: int, nexperiments: int) -> np.ndarray:\n",
    "    accs_l = list()\n",
    "\n",
    "    for _ in range(nexperiments):\n",
    "        accs = run_experiment(net_type, nepochs)\n",
    "        accs_l.append(accs)\n",
    "\n",
    "    mean_accs = np.array(accs_l).mean(axis=0)\n",
    "    return mean_accs\n",
    "\n",
    "mean_shallow_accs = run_experiments(net_type=\"shallow\", nepochs=100, nexperiments=100)\n",
    "mean_deep_accs = run_experiments(net_type=\"deep\", nepochs=100, nexperiments=100)"
   ]
  },
  {
   "cell_type": "code",
   "execution_count": 60,
   "metadata": {},
   "outputs": [
    {
     "data": {
      "image/png": "[encoded data removed]",
      "text/plain": [
       "<Figure size 640x480 with 1 Axes>"
      ]
     },
     "metadata": {},
     "output_type": "display_data"
    }
   ],
   "source": [
    "import seaborn as sns\n",
    "sns.set_theme()\n",
    "\n",
    "title(\"The averaged results from 100 experiments:\")\n",
    "xlabel(\"Epoch\"); ylabel(\"Accuracy\");\n",
    "plot(mean_shallow_accs, label=\"shallow\")\n",
    "plot(mean_deep_accs, label=\"deep\")\n",
    "legend(loc=\"lower right\");"
   ]
  },
  {
   "cell_type": "markdown",
   "metadata": {},
   "source": [
    "### Discussion\n",
    "\n",
    "We can see that with the same number of model parameters, **shallow** network learns more efficiently.\n",
    "\n",
    "I think one of the reason is that deep networks have the problem of **gradient vanishing**. That is, \"the gradients back-propagated to the layers closer to the input\" tend to be much smaller than \"the gradients of layers closer to the output\", so the learning might be not so efficient in the earlier layers of deep networks.\n",
    "\n",
    "Another reason may be what the teacher said in class, that is, it is harder for deep networks to learn **identity mappings**, which may be required to solve this XOR problem."
   ]
  }
 ],
 "metadata": {
  "kernelspec": {
   "display_name": "Python 3.8.13 ('cuda-11.3')",
   "language": "python",
   "name": "python3"
  },
  "language_info": {
   "codemirror_mode": {
    "name": "ipython",
    "version": 3
   },
   "file_extension": ".py",
   "mimetype": "text/x-python",
   "name": "python",
   "nbconvert_exporter": "python",
   "pygments_lexer": "ipython3",
   "version": "3.8.13"
  },
  "vscode": {
   "interpreter": {
    "hash": "35b66dd0c8f752918e1728d86abaa8fb004a7dee1d90779ea4d0023d852f9fe7"
   }
  }
 },
 "nbformat": 4,
 "nbformat_minor": 2
}
