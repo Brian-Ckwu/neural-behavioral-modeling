{
 "cells": [
  {
   "cell_type": "markdown",
   "metadata": {},
   "source": [
    "# Neural & Behavioral Modeling - Week 1 (Exercises)\n",
    "by Cheng-Kuang Wu (r10922186@ntu.edu.tw)"
   ]
  },
  {
   "cell_type": "code",
   "execution_count": 2,
   "metadata": {},
   "outputs": [
    {
     "name": "stderr",
     "output_type": "stream",
     "text": [
      "Matplotlib created a temporary config/cache directory at /tmp/matplotlib-g3g8_1ch because the default path (/home/ckwu/.config/matplotlib) is not a writable directory; it is highly recommended to set the MPLCONFIGDIR environment variable to a writable directory, in particular to speed up the import of Matplotlib and to better support multiprocessing.\n"
     ]
    }
   ],
   "source": [
    "%config IPCompleter.greedy=True \n",
    "%matplotlib inline\n",
    "import numpy as np\n",
    "import pandas as pd\n",
    "import matplotlib.pyplot as plt\n",
    "from IPython.display import *\n",
    "from tqdm import tqdm"
   ]
  },
  {
   "cell_type": "markdown",
   "metadata": {},
   "source": [
    "## 1 Party Simulation (5 points)\n",
    "This is a model of a cocktail party. The men and women at the party form groups. A party-goer becomes uncomfortable and switches groups if their current group has too many members of the opposite sex."
   ]
  },
  {
   "cell_type": "markdown",
   "metadata": {},
   "source": [
    "### 1.1 Insert your codes to complete the simulation (2 points)"
   ]
  },
  {
   "cell_type": "code",
   "execution_count": 12,
   "metadata": {},
   "outputs": [
    {
     "name": "stderr",
     "output_type": "stream",
     "text": [
      "100%|██████████| 1/1 [00:00<00:00, 13.87it/s]\n"
     ]
    },
    {
     "data": {
      "image/png": "[encoded data removed]",
      "text/plain": [
       "<Figure size 432x288 with 1 Axes>"
      ]
     },
     "metadata": {
      "needs_background": "light"
     },
     "output_type": "display_data"
    }
   ],
   "source": [
    "# Supporting functions:\n",
    "class Person:\n",
    "    def __init__(self, Ngroups):\n",
    "        self.sex = np.random.randint(2) # 0: woman; 1: man\n",
    "        self.Ngroups = Ngroups\n",
    "        self.group = np.random.randint(Ngroups) # staying in which group?\n",
    "        \n",
    "    def leave(self):\n",
    "        options = np.delete(np.arange(self.Ngroups), self.group) # except the current group\n",
    "        self.group = int(np.random.choice(options, 1)) # choosing a new group\n",
    "\n",
    "def plot_party(counts):\n",
    "    x = np.arange(len(counts)) + 1 # number of groups\n",
    "    plt.clf() # clear previous figure\n",
    "    plt.bar(x, counts[:, 0], color='r') # women\n",
    "    plt.bar(x, counts[:, 1], color='b', bottom=counts[:, 0]) # men on top of women in the plot\n",
    "    display(plt.gcf()); clear_output(wait=True) # to allow dynamic plots\n",
    "\n",
    "class PartySimulator(object):\n",
    "\n",
    "    def __init__(\n",
    "        self,\n",
    "        Ngroups: int,\n",
    "        Npeople: int,\n",
    "        Tolerance: float\n",
    "    ):\n",
    "        self.Ngroups = Ngroups\n",
    "        self.Npeople = Npeople\n",
    "        self.Tolerance = Tolerance\n",
    "    \n",
    "    def initialize(self):\n",
    "        self.people = [Person(self.Ngroups) for _ in range(self.Npeople)]\n",
    "    \n",
    "    def simulate(self, plot: bool) -> tuple:\n",
    "        Nhappies = list() # NOTE: keep track of number of happy people\n",
    "        Psingle_sex_groups = list() # NOTE: record proportion of single sex groups\n",
    "\n",
    "        # NOTE: A do-while loop\n",
    "        counts, proportions, Nhappy, Psingle_sex_group, happy_matrix = self.party_stats() # NOTE: the initial party stats\n",
    "        Nhappies.append(Nhappy)\n",
    "        Psingle_sex_groups.append(Psingle_sex_group)\n",
    "        if plot:\n",
    "            plot_party(counts)\n",
    "\n",
    "        while (Nhappy < self.Npeople):  # Simulation stops when everyone is happy\n",
    "            # NOTE: move the people simultaneously (virtually)\n",
    "            for person in self.people:\n",
    "                is_not_happy = ~happy_matrix[person.group, person.sex]\n",
    "                if is_not_happy:\n",
    "                    person.leave()\n",
    "            \n",
    "            # NOTE: update party stats\n",
    "            counts, proportions, Nhappy, Psingle_sex_group, happy_matrix = self.party_stats()\n",
    "            # NOTE: record intermediate party stats\n",
    "            Nhappies.append(Nhappy)\n",
    "            Psingle_sex_groups.append(Psingle_sex_group)\n",
    "            \n",
    "            # Plot new results:\n",
    "            if plot:\n",
    "                plot_party(counts)\n",
    "\n",
    "        return Nhappies, Psingle_sex_groups\n",
    "    \n",
    "    def run(self, times: int = 1) -> dict:\n",
    "        if times < 1:\n",
    "            raise ValueError(\"The number of simulations must be at least 1.\")\n",
    "\n",
    "        Nhappies_l = list()\n",
    "        Psingle_sex_groups_l = list()\n",
    "        print(f\"Running {times} time(s) of simulation(s)... ((Ngroups, Npeople, Tolerance) = ({self.Ngroups}, {self.Npeople}, {self.Tolerance}))\")\n",
    "        for _ in tqdm(range(times)):\n",
    "            self.initialize()\n",
    "            Nhappies, Psingle_sex_groups = self.simulate(plot=(times == 1)) # NOTE: do not plot when running multiple simulations\n",
    "            # NOTE: record simulation results\n",
    "            Nhappies_l.append(Nhappies)\n",
    "            Psingle_sex_groups_l.append(Psingle_sex_groups)\n",
    "\n",
    "        simulation_results = {\n",
    "            \"Nhappies_l\": Nhappies_l,\n",
    "            \"Psingle_sex_groups_l\": Psingle_sex_groups_l\n",
    "        }\n",
    "        return simulation_results\n",
    "\n",
    "    def party_stats(self) -> tuple: # NOTE: calculate party stats  \n",
    "        sexes = [self.people[i].sex for i in range(self.Npeople)]\n",
    "        groups = [self.people[i].group for i in range(self.Npeople)]\n",
    "        counts = np.zeros((max(groups) + 1, max(sexes) + 1))\n",
    "        proportions = counts.copy()\n",
    "        for p in range(self.Npeople):\n",
    "            counts[groups[p], sexes[p]] += 1\n",
    "        men_plus_women = np.sum(counts, axis=1) # number of men and women in each group\n",
    "        men_plus_women[men_plus_women == 0] = np.inf # to avoid \"dividing by zeros later\n",
    "        proportions[:, 0] = counts[:, 0] / men_plus_women # proportion of women in each group\n",
    "        proportions[:, 1] = counts[:, 1] / men_plus_women # proportion of men in each group\n",
    "\n",
    "        happy_matrix = proportions >= (1 - self.Tolerance) # NOTE: check for each group if there is a group whose proportion >= (1 - tolerance) i.e. proportion of the opposite sex <= tolerance\n",
    "        Nhappy = int(counts[happy_matrix].sum()) # NOTE: calculate number of happy people\n",
    "        Psingle_sex_group = int((proportions == 1.0).any(axis=1).sum()) / int((proportions > 0.0).any(axis=1).sum()) # NOTE: calculate the proportion of single sex groups\n",
    "        return counts, proportions, Nhappy, Psingle_sex_group, happy_matrix\n",
    "\n",
    "\n",
    "party_simulator = PartySimulator(Ngroups=10, Npeople=100, Tolerance=1.0)\n",
    "simulation_results = party_simulator.run()"
   ]
  },
  {
   "cell_type": "markdown",
   "metadata": {
    "collapsed": true
   },
   "source": [
    "### 1.2 Modify the three model parameters & discuss how each affects your simulations (2 points)"
   ]
  },
  {
   "cell_type": "markdown",
   "metadata": {},
   "source": [
    "There are mainly two things I would like to know about under different model parameter settings:\n",
    "\n",
    "1. How fast (i.e., how many steps are required) will the system reach equilibrium?\n",
    "2. The degree of group polarization (i.e., the proportion of single sex groups) when the equilibrium is reached.\n",
    "\n",
    "In the following experiments, simulations will be performed 100 times for each model parameter setting. The simulation results are then analyzed to answer the two questions."
   ]
  },
  {
   "cell_type": "markdown",
   "metadata": {},
   "source": [
    "#### Utility Function"
   ]
  },
  {
   "cell_type": "code",
   "execution_count": 5,
   "metadata": {},
   "outputs": [],
   "source": [
    "# NOTE: utility function for getting the \"average number of steps\" and \"average proportion of group polarization\" for multiple simulations\n",
    "def get_simulation_stats(simulation_results: dict) -> tuple:\n",
    "    nsteps = list()\n",
    "    pgroup_props = list()\n",
    "    \n",
    "    Psingle_sex_groups_l = simulation_results[\"Psingle_sex_groups_l\"]\n",
    "    for Psingle_sex_groups in Psingle_sex_groups_l:\n",
    "        nstep = len(Psingle_sex_groups)\n",
    "        pgroup_prop = Psingle_sex_groups[-1]\n",
    "        \n",
    "        nsteps.append(nstep)\n",
    "        pgroup_props.append(pgroup_prop)\n",
    "\n",
    "    avg_nstep = np.array(nsteps).mean()\n",
    "    avg_pgroup_prop = np.array(pgroup_props).mean()\n",
    "    return avg_nstep, avg_pgroup_prop"
   ]
  },
  {
   "cell_type": "markdown",
   "metadata": {},
   "source": [
    "#### 1.2.1 Number of Groups (Ngroups) & Number of People (Npeople)\n",
    "\n",
    "To study the effect of Ngroups and Npeople, grid search is performed for different parameter settings of (Ngroup, Npeople) under the same Tolerance level of 0.25."
   ]
  },
  {
   "cell_type": "code",
   "execution_count": null,
   "metadata": {},
   "outputs": [],
   "source": [
    "# NOTE: model parameters\n",
    "Ngroups_l = [5, 10, 20]\n",
    "Npeople_l = [25, 50, 100]\n",
    "Tolerance = 0.25\n",
    "# NOTE: number of simulations for each parameter setting\n",
    "nsimulations = 100\n",
    "\n",
    "# NOTE: initialize empty DataFrames for storing average values of \"number of steps\" and \"proportion of single sex groups\" calculated from 100 simulations\n",
    "dfs = {\n",
    "    \"avg_nstep\": pd.DataFrame(data=np.zeros(shape=(len(Ngroups_l), len(Npeople_l))), index=Ngroups_l, columns=Npeople_l, dtype=np.float64),\n",
    "    \"avg_pgroup_prop\": pd.DataFrame(data=np.zeros(shape=(len(Ngroups_l), len(Npeople_l))), index=Ngroups_l, columns=Npeople_l, dtype=np.float64)\n",
    "}\n",
    "# Name the index and column for each DataFrame\n",
    "for df in dfs.values():\n",
    "    df.index.name = \"Ngroups\"\n",
    "    df.columns.name = \"Npeople\"\n",
    "\n",
    "# Run simulations and fill the values into the DataFrames\n",
    "for Ngroups in Ngroups_l:\n",
    "    for Npeople in Npeople_l:\n",
    "        party_simulator = PartySimulator(Ngroups=Ngroups, Npeople=Npeople, Tolerance=Tolerance)\n",
    "        simulation_results = party_simulator.run(times=nsimulations)\n",
    "        avg_nstep, avg_pgroup_prop = get_simulation_stats(simulation_results)\n",
    "\n",
    "        dfs[\"avg_nstep\"].at[Ngroups, Npeople] = avg_nstep\n",
    "        dfs[\"avg_pgroup_prop\"].at[Ngroups, Npeople] = avg_pgroup_prop"
   ]
  },
  {
   "cell_type": "markdown",
   "metadata": {},
   "source": [
    "##### Table 1. Average number of steps under different (Ngroups, Npeople) settings\n",
    "\n",
    "From this table one can observe two things:\n",
    "\n",
    "1. Under the same number of groups, more steps are required to reach equilibrium if there are more people.\n",
    "2. Under the same number of people, less steps are required to reach equilibrium if there are more groups.\n",
    "\n",
    "Informally speaking, if the system is more \"crowded\", it would reach equilibrium slower; if the system is less \"crowded\", it would reach equilibrium faster."
   ]
  },
  {
   "cell_type": "code",
   "execution_count": 7,
   "metadata": {},
   "outputs": [
    {
     "data": {
      "text/html": [
       "<div>\n",
       "<style scoped>\n",
       "    .dataframe tbody tr th:only-of-type {\n",
       "        vertical-align: middle;\n",
       "    }\n",
       "\n",
       "    .dataframe tbody tr th {\n",
       "        vertical-align: top;\n",
       "    }\n",
       "\n",
       "    .dataframe thead th {\n",
       "        text-align: right;\n",
       "    }\n",
       "</style>\n",
       "<table border=\"1\" class=\"dataframe\">\n",
       "  <thead>\n",
       "    <tr style=\"text-align: right;\">\n",
       "      <th>Npeople</th>\n",
       "      <th>25</th>\n",
       "      <th>50</th>\n",
       "      <th>100</th>\n",
       "    </tr>\n",
       "    <tr>\n",
       "      <th>Ngroups</th>\n",
       "      <th></th>\n",
       "      <th></th>\n",
       "      <th></th>\n",
       "    </tr>\n",
       "  </thead>\n",
       "  <tbody>\n",
       "    <tr>\n",
       "      <th>5</th>\n",
       "      <td>9.26</td>\n",
       "      <td>14.90</td>\n",
       "      <td>81.11</td>\n",
       "    </tr>\n",
       "    <tr>\n",
       "      <th>10</th>\n",
       "      <td>7.35</td>\n",
       "      <td>9.74</td>\n",
       "      <td>14.67</td>\n",
       "    </tr>\n",
       "    <tr>\n",
       "      <th>20</th>\n",
       "      <td>6.07</td>\n",
       "      <td>8.84</td>\n",
       "      <td>11.63</td>\n",
       "    </tr>\n",
       "  </tbody>\n",
       "</table>\n",
       "</div>"
      ],
      "text/plain": [
       "Npeople   25     50     100\n",
       "Ngroups                    \n",
       "5        9.26  14.90  81.11\n",
       "10       7.35   9.74  14.67\n",
       "20       6.07   8.84  11.63"
      ]
     },
     "execution_count": 7,
     "metadata": {},
     "output_type": "execute_result"
    }
   ],
   "source": [
    "dfs[\"avg_nstep\"]"
   ]
  },
  {
   "cell_type": "markdown",
   "metadata": {},
   "source": [
    "##### Table 2. Average proportion of single sex groups under different (Ngroups, Npeople) settings\n",
    "\n",
    "From this table one can observe that different (Ngroups, Npeople) settings wouldn't affect the proportion of single sex groups when the Tolerance is set to 0.25.\n",
    "At such Tolerance level, all groups are polarized (i.e., all groups are single sex groups) when the equilibrium is reached."
   ]
  },
  {
   "cell_type": "code",
   "execution_count": 8,
   "metadata": {},
   "outputs": [
    {
     "data": {
      "text/html": [
       "<div>\n",
       "<style scoped>\n",
       "    .dataframe tbody tr th:only-of-type {\n",
       "        vertical-align: middle;\n",
       "    }\n",
       "\n",
       "    .dataframe tbody tr th {\n",
       "        vertical-align: top;\n",
       "    }\n",
       "\n",
       "    .dataframe thead th {\n",
       "        text-align: right;\n",
       "    }\n",
       "</style>\n",
       "<table border=\"1\" class=\"dataframe\">\n",
       "  <thead>\n",
       "    <tr style=\"text-align: right;\">\n",
       "      <th>Npeople</th>\n",
       "      <th>25</th>\n",
       "      <th>50</th>\n",
       "      <th>100</th>\n",
       "    </tr>\n",
       "    <tr>\n",
       "      <th>Ngroups</th>\n",
       "      <th></th>\n",
       "      <th></th>\n",
       "      <th></th>\n",
       "    </tr>\n",
       "  </thead>\n",
       "  <tbody>\n",
       "    <tr>\n",
       "      <th>5</th>\n",
       "      <td>1.0</td>\n",
       "      <td>1.0</td>\n",
       "      <td>1.0</td>\n",
       "    </tr>\n",
       "    <tr>\n",
       "      <th>10</th>\n",
       "      <td>1.0</td>\n",
       "      <td>1.0</td>\n",
       "      <td>1.0</td>\n",
       "    </tr>\n",
       "    <tr>\n",
       "      <th>20</th>\n",
       "      <td>1.0</td>\n",
       "      <td>1.0</td>\n",
       "      <td>1.0</td>\n",
       "    </tr>\n",
       "  </tbody>\n",
       "</table>\n",
       "</div>"
      ],
      "text/plain": [
       "Npeople  25   50   100\n",
       "Ngroups               \n",
       "5        1.0  1.0  1.0\n",
       "10       1.0  1.0  1.0\n",
       "20       1.0  1.0  1.0"
      ]
     },
     "execution_count": 8,
     "metadata": {},
     "output_type": "execute_result"
    }
   ],
   "source": [
    "dfs[\"avg_pgroup_prop\"]"
   ]
  },
  {
   "cell_type": "markdown",
   "metadata": {},
   "source": [
    "#### 1.2.2 Effects of Tolerance\n",
    "\n",
    "To study the effect of Tolerance, (Ngroups, Npeople) is set to (10, 100) and simulations are performed under different Tolerance settings."
   ]
  },
  {
   "cell_type": "code",
   "execution_count": null,
   "metadata": {},
   "outputs": [],
   "source": [
    "# NOTE: model parameters\n",
    "Ngroups = 10\n",
    "Npeople = 100\n",
    "Tolerances = [0.25, 0.35, 0.49, 0.50, 0.60, 0.75, 0.90]\n",
    "# NOTE: number of simulations for each parameter setting\n",
    "nsimulations = 100\n",
    "\n",
    "# NOTE: initialize an empty DataFrame for storing average values of \"number of steps\" and \"proportion of single sex groups\" calculated from 100 simulations\n",
    "tdf = pd.DataFrame(data=np.zeros(shape=(2, len(Tolerances))), index=[\"nstep\", \"pgroup_prop\"], columns=Tolerances, dtype=np.float64)\n",
    "# Name the index and column\n",
    "tdf.index.name = \"Average values\"\n",
    "tdf.columns.name = \"Tolerance\"\n",
    "\n",
    "# Run simulations and fill the values into the DataFrames\n",
    "for Tolerance in Tolerances:\n",
    "    party_simulator = PartySimulator(Ngroups=Ngroups, Npeople=Npeople, Tolerance=Tolerance)\n",
    "    simulation_results = party_simulator.run(times=nsimulations)\n",
    "    avg_nstep, avg_pgroup_prop = get_simulation_stats(simulation_results)\n",
    "\n",
    "    tdf.at[\"nstep\", Tolerance] = avg_nstep\n",
    "    tdf.at[\"pgroup_prop\", Tolerance] = avg_pgroup_prop"
   ]
  },
  {
   "cell_type": "markdown",
   "metadata": {},
   "source": [
    "##### Table 3. Average number of steps and average proportion of single sex groups under different Tolerance settings\n",
    "\n",
    "From this table we can see that:\n",
    "\n",
    "1. The system reach equilibrium faster (with fewer steps) as Tolerance gets higher.\n",
    "2. The groups are fully polarized when Tolerance is less than 0.50.\n",
    "3. The groups become less polarized when Tolerance is greater than or equal to 0.50."
   ]
  },
  {
   "cell_type": "code",
   "execution_count": 16,
   "metadata": {},
   "outputs": [
    {
     "data": {
      "text/html": [
       "<div>\n",
       "<style scoped>\n",
       "    .dataframe tbody tr th:only-of-type {\n",
       "        vertical-align: middle;\n",
       "    }\n",
       "\n",
       "    .dataframe tbody tr th {\n",
       "        vertical-align: top;\n",
       "    }\n",
       "\n",
       "    .dataframe thead th {\n",
       "        text-align: right;\n",
       "    }\n",
       "</style>\n",
       "<table border=\"1\" class=\"dataframe\">\n",
       "  <thead>\n",
       "    <tr style=\"text-align: right;\">\n",
       "      <th>Tolerance</th>\n",
       "      <th>0.25</th>\n",
       "      <th>0.35</th>\n",
       "      <th>0.49</th>\n",
       "      <th>0.50</th>\n",
       "      <th>0.60</th>\n",
       "      <th>0.75</th>\n",
       "      <th>0.90</th>\n",
       "    </tr>\n",
       "    <tr>\n",
       "      <th>Average values</th>\n",
       "      <th></th>\n",
       "      <th></th>\n",
       "      <th></th>\n",
       "      <th></th>\n",
       "      <th></th>\n",
       "      <th></th>\n",
       "      <th></th>\n",
       "    </tr>\n",
       "  </thead>\n",
       "  <tbody>\n",
       "    <tr>\n",
       "      <th>nstep</th>\n",
       "      <td>15.38</td>\n",
       "      <td>9.13</td>\n",
       "      <td>8.3</td>\n",
       "      <td>7.890</td>\n",
       "      <td>4.980</td>\n",
       "      <td>1.740</td>\n",
       "      <td>1.050</td>\n",
       "    </tr>\n",
       "    <tr>\n",
       "      <th>pgroup_prop</th>\n",
       "      <td>1.00</td>\n",
       "      <td>1.00</td>\n",
       "      <td>1.0</td>\n",
       "      <td>0.993</td>\n",
       "      <td>0.611</td>\n",
       "      <td>0.115</td>\n",
       "      <td>0.015</td>\n",
       "    </tr>\n",
       "  </tbody>\n",
       "</table>\n",
       "</div>"
      ],
      "text/plain": [
       "Tolerance        0.25  0.35  0.49   0.50   0.60   0.75   0.90\n",
       "Average values                                               \n",
       "nstep           15.38  9.13   8.3  7.890  4.980  1.740  1.050\n",
       "pgroup_prop      1.00  1.00   1.0  0.993  0.611  0.115  0.015"
      ]
     },
     "execution_count": 16,
     "metadata": {},
     "output_type": "execute_result"
    }
   ],
   "source": [
    "tdf"
   ]
  },
  {
   "cell_type": "markdown",
   "metadata": {},
   "source": [
    "### 1.3 Discuss why the simulaiton leads to group polarization (1 point)"
   ]
  },
  {
   "cell_type": "markdown",
   "metadata": {},
   "source": [
    "Let's first define some terminology and rules for the convenience of discussion:\n",
    "\n",
    "* The sets of male and female group members of the $i$-th group are denoted as $A_i$ and $B_i$, respectively.\n",
    "* The proportion of group members in the $i$-th group is denoted as $N(S_i), S_i \\in \\{A_i, B_i\\}$. For convenience, we define $N(A_i) = 0$ and $N(B_i) = 0$ if there are no group members in the $i$-th group.\n",
    "* In the case where $N(A_i) \\neq 0$ or $N(B_i) \\neq 0$, we define $N(A_i) = \\frac{N(A_i)}{N(A_i) + N(B_i)}$ and $N(B_i) = \\frac{N(B_i)}{N(A_i) + N(B_i)}$.\n",
    "* For a given tolerance level $T \\in \\left[0, 1\\right]$, a group member will ***leave*** the group and go to other groups randomly if the proportion of the opposite sex is greater than $T$.\n",
    "* A group is ***unstable*** if any member would ***leave*** the group. On the other hand, a group is ***stable*** if no one would ***leave*** the group or it is an empty group (i.e., with no group members). \n",
    "* The system reaches ***equilibrium*** if and only if all groups are ***stable***.\n",
    "* A group is ***polarized*** if all group members are of a single sex.\n",
    "\n",
    "From the somewhat loose definitions above, we can describe an ***unstable*** group mathematically as follows: $\\left[(N(A_i) > T)  \\land (N(B_i) \\neq 0)\\right] \\lor \\left[(N(B_i) > T) \\land (N(A_i) \\neq 0)\\right]$, for any $i$.\n",
    "\n",
    "A group is ***stable*** if one of the following disjoint conditions hold:\n",
    "\n",
    "1. $(N(A_i) \\neq 0) \\land (N(B_i) \\neq 0) \\land (N(A_i) \\leq T) \\land  (N(B_i) \\leq T)$ (not polarized, non-empty)\n",
    "2. $(N(A_i) \\neq 0) \\land (N(B_i) = 0)$ (polarized)\n",
    "3. $(N(A_i) = 0) \\land (N(B_i) \\neq 0)$ (polarized)\n",
    "4. $(N(A_i) = 0) \\land (N(B_i) = 0)$ (empty)\n",
    "\n",
    "We now begin our discussion for different values of $T$:\n",
    "\n",
    "- $T < 0.5$: If condition 1 is true, then $N(A_i) + N(B_i) < 1$, which contradicts which the fact that $N(A_i) + N(B_i) = \\frac{N(A_i)}{N(A_i) + N(B_i)} + \\frac{N(B_i)}{N(A_i) + N(B_i)} = 1$ according to our definition. Therefore, condition 1 must be false for any group in the party. Moreover, condition 4 cannot be true for ***all*** the groups if there is at least one person in the party simulation. Therefore, all non-empty groups must suffice condition 2 or 3, which means that all non-empty groups will be ***polarized*** towards a specific sex when the ***equilibrium*** is reached under the constraint that $T < 0.5$.\n",
    "\n",
    "- $T \\geq 0.5$: When tolerance $T$ is greater than or equal to 0.5, condition 1 could be true for a given group. In other words, it is possible that there are one or several ***non-polarized*** groups when the ***equilibrium*** is reached. The proportion of non-polarized groups at equilibrium is dependent on the value of $T$ and the system's stochastic behavior (e.g., initialization of the system and group members' movements)."
   ]
  },
  {
   "cell_type": "markdown",
   "metadata": {},
   "source": [
    "## 2 Understand Shunting Equation (5 points)\n",
    "\n",
    "$\\frac{dy}{dt}=-Ay+(B-y)*E-(y-C)*I$"
   ]
  },
  {
   "cell_type": "markdown",
   "metadata": {},
   "source": [
    "### 2.1 Find its equilibrium by analytically solving $dy/dt=0$ (1 point)"
   ]
  },
  {
   "cell_type": "code",
   "execution_count": 17,
   "metadata": {},
   "outputs": [
    {
     "name": "stdout",
     "output_type": "stream",
     "text": [
      "Answer:\n"
     ]
    },
    {
     "data": {
      "text/latex": [
       "$\\displaystyle y{\\left(t \\right)} = \\frac{B E + C I}{A + E + I}$"
      ],
      "text/plain": [
       "Eq(y(t), (B*E + C*I)/(A + E + I))"
      ]
     },
     "execution_count": 17,
     "metadata": {},
     "output_type": "execute_result"
    }
   ],
   "source": [
    "# Method 1: Solve the equation by sympy\n",
    "import sympy as sym\n",
    "\n",
    "t, A, B, E, C, I = sym.symbols('t, A, B, E, C, I')\n",
    "y = sym.Function('y')(t)\n",
    "\n",
    "print(\"Answer:\")\n",
    "sym.dsolve(-A * y + (B - y) * E - (y - C) * I, y)"
   ]
  },
  {
   "cell_type": "markdown",
   "metadata": {},
   "source": [
    "Method 2: Solve the equation by hand\n",
    "\n",
    "$\\frac{dy}{dt} = 0$ \n",
    "\n",
    "$-Ay + (B - y) * E - (y - C) * I = 0$\n",
    "\n",
    "$-(A + E + I) * y = -BE - CI$\n",
    "\n",
    "Answer:\n",
    "\n",
    "$y = \\frac{BE + CI}{A + E + I}$"
   ]
  },
  {
   "cell_type": "markdown",
   "metadata": {},
   "source": [
    "### 2.2 Use Euler integration to verify your answer in 2.1 with your own (A, B, C, E, I) constants (2 points)\n"
   ]
  },
  {
   "cell_type": "code",
   "execution_count": 18,
   "metadata": {},
   "outputs": [],
   "source": [
    "# Write your simulation codes here\n",
    "\n",
    "# NOTE: utility function for plotting Euler integration\n",
    "A, B, C, E, I = 1, 2, -2, 1, 2  # NOTE: arbitrarily set the constants\n",
    "dt = 0.01\n",
    "\n",
    "def plot_shunting_eq(y_init: float, dt: float, t_range: np.ndarray):\n",
    "    y = [y_init]\n",
    "    for _ in t_range:\n",
    "        y1 = y[-1]\n",
    "        y2 = y1 + dt * (-A * y1 + (B - y1) * E - (y1 - C) * I)\n",
    "        y.append(y2)\n",
    "\n",
    "    plt.plot(t_range, y[:-1], \"ro\", markerfacecolor=\"None\")\n",
    "    equi = (B * E + C * I) / (A + E + I) # NOTE: check equilibrium\n",
    "    print(f\"Starting from y = {y_init}, the equilibrium will be reached at (BE + CI) / (A + E + I) = {equi}, which is compatible with the plot.\")"
   ]
  },
  {
   "cell_type": "code",
   "execution_count": 19,
   "metadata": {
    "collapsed": true
   },
   "outputs": [
    {
     "name": "stdout",
     "output_type": "stream",
     "text": [
      "Starting from y = -1, the equilibrium will be reached at (BE + CI) / (A + E + I) = -0.5, which is compatible with the plot.\n"
     ]
    },
    {
     "data": {
      "image/png": "[encoded data removed]",
      "text/plain": [
       "<Figure size 432x288 with 1 Axes>"
      ]
     },
     "metadata": {
      "needs_background": "light"
     },
     "output_type": "display_data"
    }
   ],
   "source": [
    "# NOTE: simulate by Euler integration starting from y = -1 (dt = 0.01)\n",
    "plot_shunting_eq(y_init=-1, dt=dt, t_range=np.arange(0, 10, dt))"
   ]
  },
  {
   "cell_type": "code",
   "execution_count": 20,
   "metadata": {},
   "outputs": [
    {
     "name": "stdout",
     "output_type": "stream",
     "text": [
      "Starting from y = 0, the equilibrium will be reached at (BE + CI) / (A + E + I) = -0.5, which is compatible with the plot.\n"
     ]
    },
    {
     "data": {
      "image/png": "[encoded data removed]",
      "text/plain": [
       "<Figure size 432x288 with 1 Axes>"
      ]
     },
     "metadata": {
      "needs_background": "light"
     },
     "output_type": "display_data"
    }
   ],
   "source": [
    "# NOTE: simulate by Euler integration starting from y = 0 (dt = 0.01)\n",
    "plot_shunting_eq(y_init=0, dt=dt, t_range=np.arange(0, 10, dt))"
   ]
  },
  {
   "cell_type": "markdown",
   "metadata": {},
   "source": [
    "### 2.3 Combining math & if-then controls in numerical integrations (2 points)\n",
    "\n",
    "Use Euler integration to plot $dy/dt=-y(t)+E$ where\n",
    "$E=\\begin{cases}\n",
    "    1  &  \\text{if } t<5\\\\\n",
    "    0  &  \\text{if } t>5\n",
    "   \\end{cases}$\n",
    "for t=[0,10] & y(t=0)=0.\n",
    "\n",
    "This is an example of time-varying rather than constant excitation."
   ]
  },
  {
   "cell_type": "markdown",
   "metadata": {},
   "source": [
    "#### 2.3.1 Euler Integration"
   ]
  },
  {
   "cell_type": "code",
   "execution_count": 21,
   "metadata": {},
   "outputs": [
    {
     "data": {
      "image/png": "[encoded data removed]",
      "text/plain": [
       "<Figure size 432x288 with 1 Axes>"
      ]
     },
     "metadata": {
      "needs_background": "light"
     },
     "output_type": "display_data"
    }
   ],
   "source": [
    "# Write your simulation code here\n",
    "dt = 0.01\n",
    "y = [0]\n",
    "t_range = np.arange(0, 10 + dt, dt) # t = [0, 10]\n",
    "\n",
    "for t in t_range:\n",
    "    E = 1 if t < 5 else 0\n",
    "    y1 = y[-1]\n",
    "    dy_dt = (-y1 + E) if t != 5 else 0 # NOTE: arbitrarily define dy_dt to be zero when t equals 5 to complete numerical integrations\n",
    "    y2 = y1 + dt * dy_dt\n",
    "    y.append(y2)\n",
    "\n",
    "plt.plot(t_range, y[:-1], \"ro\", markerfacecolor=\"None\");"
   ]
  },
  {
   "cell_type": "markdown",
   "metadata": {},
   "source": [
    "## Please submit the HTML version of your notebook to NTU COOL by 9/12(Mon)!"
   ]
  }
 ],
 "metadata": {
  "kernelspec": {
   "display_name": "Python 3.8.13 ('cuda-11.3')",
   "language": "python",
   "name": "python3"
  },
  "language_info": {
   "codemirror_mode": {
    "name": "ipython",
    "version": 3
   },
   "file_extension": ".py",
   "mimetype": "text/x-python",
   "name": "python",
   "nbconvert_exporter": "python",
   "pygments_lexer": "ipython3",
   "version": "3.8.13"
  },
  "vscode": {
   "interpreter": {
    "hash": "35b66dd0c8f752918e1728d86abaa8fb004a7dee1d90779ea4d0023d852f9fe7"
   }
  }
 },
 "nbformat": 4,
 "nbformat_minor": 2
}
